{
 "nbformat": 4,
 "nbformat_minor": 2,
 "metadata": {
  "language_info": {
   "name": "python",
   "codemirror_mode": {
    "name": "ipython",
    "version": 3
   },
   "version": "3.8.2-final"
  },
  "orig_nbformat": 2,
  "file_extension": ".py",
  "mimetype": "text/x-python",
  "name": "python",
  "npconvert_exporter": "python",
  "pygments_lexer": "ipython3",
  "version": 3,
  "kernelspec": {
   "name": "python38264bit3f4bc9d21b0a470cb598dcfc81df52f4",
   "display_name": "Python 3.8.2 64-bit"
  }
 },
 "cells": [
  {
   "cell_type": "code",
   "execution_count": null,
   "metadata": {},
   "outputs": [],
   "source": [
    "c = int(input('Please chose your operation :\\n1.addition\\n2.substraction\\n3.Multiplication\\n4.Division\\n5.Fibonacci number\\n'))\n",
    "if c < 5:\n",
    "    a = int(input(\"Welcome to calculator:\\nPlease enter your first number : \"))\n",
    "    b = int(input(\"Please enter your second number : \"))\n",
    "    result = {1:a+b,2:a-b,3:a*b,4:a/b}\n",
    "    operations = {1: 'multiplication',\n",
    "              2: 'substraction',\n",
    "              3: 'multiplication',\n",
    "              4: 'division'\n",
    "     }\n",
    "\n",
    "    print('The result of {} is {}'.format(operations[c],result[c]))\n",
    "    \n",
    "elif c == 5:\n",
    "    d = int(input(\"Please enter your number between 10 and 10.000 : \"))\n",
    "    x = [1,1]\n",
    "    for i in range(d):\n",
    "        if x[i]+x[i+1] > d: break\n",
    "        x.append(x[i]+x[i+1])\n",
    "    print('Finocci numbers until {} are {}'.format(d, x))\n",
    "\n",
    "else:\n",
    "       print('Please enter valid number')\n",
    "          "
   ]
  },
  {
   "cell_type": "code",
   "execution_count": null,
   "metadata": {},
   "outputs": [],
   "source": []
  }
 ]
}